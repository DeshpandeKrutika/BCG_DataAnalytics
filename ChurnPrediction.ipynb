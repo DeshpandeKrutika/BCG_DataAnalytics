{
 "metadata": {
  "language_info": {
   "codemirror_mode": {
    "name": "ipython",
    "version": 3
   },
   "file_extension": ".py",
   "mimetype": "text/x-python",
   "name": "python",
   "nbconvert_exporter": "python",
   "pygments_lexer": "ipython3",
   "version": "3.8.2-final"
  },
  "orig_nbformat": 2,
  "kernelspec": {
   "name": "python3",
   "display_name": "Python 3.8.2 64-bit",
   "metadata": {
    "interpreter": {
     "hash": "2db524e06e9f5f4ffedc911c917cb75e12dbc923643829bf417064a77eb14d37"
    }
   }
  }
 },
 "nbformat": 4,
 "nbformat_minor": 2,
 "cells": [
  {
   "cell_type": "code",
   "execution_count": null,
   "metadata": {},
   "outputs": [],
   "source": []
  },
  {
   "source": [
    "### Loading Required Libraries"
   ],
   "cell_type": "markdown",
   "metadata": {}
  },
  {
   "cell_type": "code",
   "execution_count": 14,
   "metadata": {},
   "outputs": [],
   "source": [
    "import matplotlib.pyplot as plt\n",
    "import seaborn as sns\n",
    "import pandas as pd\n",
    "import numpy as np\n",
    "\n",
    "# Shows plots in jupyter notebook\n",
    "%matplotlib inline\n",
    "\n",
    "# Set plot style\n",
    "sns.set(color_codes=True)"
   ]
  },
  {
   "cell_type": "code",
   "execution_count": 17,
   "metadata": {},
   "outputs": [],
   "source": [
    "import sklearn\n",
    "from sklearn.model_selection import train_test_split\n",
    "from sklearn.preprocessing import LabelEncoder\n",
    "from sklearn.ensemble import RandomForestClassifier\n",
    "from sklearn.metrics import accuracy_score, precision_score, recall_score, f1_score, roc_auc_score"
   ]
  },
  {
   "source": [
    "### Loading Data"
   ],
   "cell_type": "markdown",
   "metadata": {}
  },
  {
   "cell_type": "code",
   "execution_count": 2,
   "metadata": {},
   "outputs": [],
   "source": [
    "client_df = pd.read_csv('./client_data.csv')\n",
    "price_df = pd.read_csv('./price_data.csv')"
   ]
  },
  {
   "cell_type": "code",
   "execution_count": 5,
   "metadata": {},
   "outputs": [
    {
     "output_type": "execute_result",
     "data": {
      "text/plain": [
       "                                 id                     channel_sales  \\\n",
       "0  24011ae4ebbe3035111d65fa7c15bc57  foosdfpfkusacimwkcsosbicdxkicaua   \n",
       "1  d29c2c54acc38ff3c0614d0a653813dd                           MISSING   \n",
       "2  764c75f661154dac3a6c254cd082ea7d  foosdfpfkusacimwkcsosbicdxkicaua   \n",
       "3  bba03439a292a1e166f80264c16191cb  lmkebamcaaclubfxadlmueccxoimlema   \n",
       "4  149d57cf92fc41cf94415803a877cb4b                           MISSING   \n",
       "\n",
       "   cons_12m  cons_gas_12m  cons_last_month  date_activ    date_end  \\\n",
       "0         0         54946                0  2013-06-15  2016-06-15   \n",
       "1      4660             0                0  2009-08-21  2016-08-30   \n",
       "2       544             0                0  2010-04-16  2016-04-16   \n",
       "3      1584             0                0  2010-03-30  2016-03-30   \n",
       "4      4425             0              526  2010-01-13  2016-03-07   \n",
       "\n",
       "  date_modif_prod date_renewal  forecast_cons_12m  ...  has_gas  imp_cons  \\\n",
       "0      2015-11-01   2015-06-23               0.00  ...        t      0.00   \n",
       "1      2009-08-21   2015-08-31             189.95  ...        f      0.00   \n",
       "2      2010-04-16   2015-04-17              47.96  ...        f      0.00   \n",
       "3      2010-03-30   2015-03-31             240.04  ...        f      0.00   \n",
       "4      2010-01-13   2015-03-09             445.75  ...        f     52.32   \n",
       "\n",
       "   margin_gross_pow_ele  margin_net_pow_ele  nb_prod_act  net_margin  \\\n",
       "0                 25.44               25.44            2      678.99   \n",
       "1                 16.38               16.38            1       18.89   \n",
       "2                 28.60               28.60            1        6.60   \n",
       "3                 30.22               30.22            1       25.46   \n",
       "4                 44.91               44.91            1       47.98   \n",
       "\n",
       "  num_years_antig                         origin_up  pow_max  churn  \n",
       "0               3  lxidpiddsbxsbosboudacockeimpuepw   43.648      1  \n",
       "1               6  kamkkxfxxuwbdslkwifmmcsiusiuosws   13.800      0  \n",
       "2               6  kamkkxfxxuwbdslkwifmmcsiusiuosws   13.856      0  \n",
       "3               6  kamkkxfxxuwbdslkwifmmcsiusiuosws   13.200      0  \n",
       "4               6  kamkkxfxxuwbdslkwifmmcsiusiuosws   19.800      0  \n",
       "\n",
       "[5 rows x 26 columns]"
      ],
      "text/html": "<div>\n<style scoped>\n    .dataframe tbody tr th:only-of-type {\n        vertical-align: middle;\n    }\n\n    .dataframe tbody tr th {\n        vertical-align: top;\n    }\n\n    .dataframe thead th {\n        text-align: right;\n    }\n</style>\n<table border=\"1\" class=\"dataframe\">\n  <thead>\n    <tr style=\"text-align: right;\">\n      <th></th>\n      <th>id</th>\n      <th>channel_sales</th>\n      <th>cons_12m</th>\n      <th>cons_gas_12m</th>\n      <th>cons_last_month</th>\n      <th>date_activ</th>\n      <th>date_end</th>\n      <th>date_modif_prod</th>\n      <th>date_renewal</th>\n      <th>forecast_cons_12m</th>\n      <th>...</th>\n      <th>has_gas</th>\n      <th>imp_cons</th>\n      <th>margin_gross_pow_ele</th>\n      <th>margin_net_pow_ele</th>\n      <th>nb_prod_act</th>\n      <th>net_margin</th>\n      <th>num_years_antig</th>\n      <th>origin_up</th>\n      <th>pow_max</th>\n      <th>churn</th>\n    </tr>\n  </thead>\n  <tbody>\n    <tr>\n      <th>0</th>\n      <td>24011ae4ebbe3035111d65fa7c15bc57</td>\n      <td>foosdfpfkusacimwkcsosbicdxkicaua</td>\n      <td>0</td>\n      <td>54946</td>\n      <td>0</td>\n      <td>2013-06-15</td>\n      <td>2016-06-15</td>\n      <td>2015-11-01</td>\n      <td>2015-06-23</td>\n      <td>0.00</td>\n      <td>...</td>\n      <td>t</td>\n      <td>0.00</td>\n      <td>25.44</td>\n      <td>25.44</td>\n      <td>2</td>\n      <td>678.99</td>\n      <td>3</td>\n      <td>lxidpiddsbxsbosboudacockeimpuepw</td>\n      <td>43.648</td>\n      <td>1</td>\n    </tr>\n    <tr>\n      <th>1</th>\n      <td>d29c2c54acc38ff3c0614d0a653813dd</td>\n      <td>MISSING</td>\n      <td>4660</td>\n      <td>0</td>\n      <td>0</td>\n      <td>2009-08-21</td>\n      <td>2016-08-30</td>\n      <td>2009-08-21</td>\n      <td>2015-08-31</td>\n      <td>189.95</td>\n      <td>...</td>\n      <td>f</td>\n      <td>0.00</td>\n      <td>16.38</td>\n      <td>16.38</td>\n      <td>1</td>\n      <td>18.89</td>\n      <td>6</td>\n      <td>kamkkxfxxuwbdslkwifmmcsiusiuosws</td>\n      <td>13.800</td>\n      <td>0</td>\n    </tr>\n    <tr>\n      <th>2</th>\n      <td>764c75f661154dac3a6c254cd082ea7d</td>\n      <td>foosdfpfkusacimwkcsosbicdxkicaua</td>\n      <td>544</td>\n      <td>0</td>\n      <td>0</td>\n      <td>2010-04-16</td>\n      <td>2016-04-16</td>\n      <td>2010-04-16</td>\n      <td>2015-04-17</td>\n      <td>47.96</td>\n      <td>...</td>\n      <td>f</td>\n      <td>0.00</td>\n      <td>28.60</td>\n      <td>28.60</td>\n      <td>1</td>\n      <td>6.60</td>\n      <td>6</td>\n      <td>kamkkxfxxuwbdslkwifmmcsiusiuosws</td>\n      <td>13.856</td>\n      <td>0</td>\n    </tr>\n    <tr>\n      <th>3</th>\n      <td>bba03439a292a1e166f80264c16191cb</td>\n      <td>lmkebamcaaclubfxadlmueccxoimlema</td>\n      <td>1584</td>\n      <td>0</td>\n      <td>0</td>\n      <td>2010-03-30</td>\n      <td>2016-03-30</td>\n      <td>2010-03-30</td>\n      <td>2015-03-31</td>\n      <td>240.04</td>\n      <td>...</td>\n      <td>f</td>\n      <td>0.00</td>\n      <td>30.22</td>\n      <td>30.22</td>\n      <td>1</td>\n      <td>25.46</td>\n      <td>6</td>\n      <td>kamkkxfxxuwbdslkwifmmcsiusiuosws</td>\n      <td>13.200</td>\n      <td>0</td>\n    </tr>\n    <tr>\n      <th>4</th>\n      <td>149d57cf92fc41cf94415803a877cb4b</td>\n      <td>MISSING</td>\n      <td>4425</td>\n      <td>0</td>\n      <td>526</td>\n      <td>2010-01-13</td>\n      <td>2016-03-07</td>\n      <td>2010-01-13</td>\n      <td>2015-03-09</td>\n      <td>445.75</td>\n      <td>...</td>\n      <td>f</td>\n      <td>52.32</td>\n      <td>44.91</td>\n      <td>44.91</td>\n      <td>1</td>\n      <td>47.98</td>\n      <td>6</td>\n      <td>kamkkxfxxuwbdslkwifmmcsiusiuosws</td>\n      <td>19.800</td>\n      <td>0</td>\n    </tr>\n  </tbody>\n</table>\n<p>5 rows × 26 columns</p>\n</div>"
     },
     "metadata": {},
     "execution_count": 5
    }
   ],
   "source": [
    "client_df.head()"
   ]
  },
  {
   "cell_type": "code",
   "execution_count": 6,
   "metadata": {},
   "outputs": [
    {
     "output_type": "execute_result",
     "data": {
      "text/plain": [
       "                                 id  price_date  price_off_peak_var  \\\n",
       "0  038af19179925da21a25619c5a24b745  2015-01-01            0.151367   \n",
       "1  038af19179925da21a25619c5a24b745  2015-02-01            0.151367   \n",
       "2  038af19179925da21a25619c5a24b745  2015-03-01            0.151367   \n",
       "3  038af19179925da21a25619c5a24b745  2015-04-01            0.149626   \n",
       "4  038af19179925da21a25619c5a24b745  2015-05-01            0.149626   \n",
       "\n",
       "   price_peak_var  price_mid_peak_var  price_off_peak_fix  price_peak_fix  \\\n",
       "0             0.0                 0.0           44.266931             0.0   \n",
       "1             0.0                 0.0           44.266931             0.0   \n",
       "2             0.0                 0.0           44.266931             0.0   \n",
       "3             0.0                 0.0           44.266931             0.0   \n",
       "4             0.0                 0.0           44.266931             0.0   \n",
       "\n",
       "   price_mid_peak_fix  \n",
       "0                 0.0  \n",
       "1                 0.0  \n",
       "2                 0.0  \n",
       "3                 0.0  \n",
       "4                 0.0  "
      ],
      "text/html": "<div>\n<style scoped>\n    .dataframe tbody tr th:only-of-type {\n        vertical-align: middle;\n    }\n\n    .dataframe tbody tr th {\n        vertical-align: top;\n    }\n\n    .dataframe thead th {\n        text-align: right;\n    }\n</style>\n<table border=\"1\" class=\"dataframe\">\n  <thead>\n    <tr style=\"text-align: right;\">\n      <th></th>\n      <th>id</th>\n      <th>price_date</th>\n      <th>price_off_peak_var</th>\n      <th>price_peak_var</th>\n      <th>price_mid_peak_var</th>\n      <th>price_off_peak_fix</th>\n      <th>price_peak_fix</th>\n      <th>price_mid_peak_fix</th>\n    </tr>\n  </thead>\n  <tbody>\n    <tr>\n      <th>0</th>\n      <td>038af19179925da21a25619c5a24b745</td>\n      <td>2015-01-01</td>\n      <td>0.151367</td>\n      <td>0.0</td>\n      <td>0.0</td>\n      <td>44.266931</td>\n      <td>0.0</td>\n      <td>0.0</td>\n    </tr>\n    <tr>\n      <th>1</th>\n      <td>038af19179925da21a25619c5a24b745</td>\n      <td>2015-02-01</td>\n      <td>0.151367</td>\n      <td>0.0</td>\n      <td>0.0</td>\n      <td>44.266931</td>\n      <td>0.0</td>\n      <td>0.0</td>\n    </tr>\n    <tr>\n      <th>2</th>\n      <td>038af19179925da21a25619c5a24b745</td>\n      <td>2015-03-01</td>\n      <td>0.151367</td>\n      <td>0.0</td>\n      <td>0.0</td>\n      <td>44.266931</td>\n      <td>0.0</td>\n      <td>0.0</td>\n    </tr>\n    <tr>\n      <th>3</th>\n      <td>038af19179925da21a25619c5a24b745</td>\n      <td>2015-04-01</td>\n      <td>0.149626</td>\n      <td>0.0</td>\n      <td>0.0</td>\n      <td>44.266931</td>\n      <td>0.0</td>\n      <td>0.0</td>\n    </tr>\n    <tr>\n      <th>4</th>\n      <td>038af19179925da21a25619c5a24b745</td>\n      <td>2015-05-01</td>\n      <td>0.149626</td>\n      <td>0.0</td>\n      <td>0.0</td>\n      <td>44.266931</td>\n      <td>0.0</td>\n      <td>0.0</td>\n    </tr>\n  </tbody>\n</table>\n</div>"
     },
     "metadata": {},
     "execution_count": 6
    }
   ],
   "source": [
    "price_df.head()"
   ]
  },
  {
   "source": [
    "### Descriptive Statistics"
   ],
   "cell_type": "markdown",
   "metadata": {}
  },
  {
   "cell_type": "code",
   "execution_count": 8,
   "metadata": {},
   "outputs": [
    {
     "output_type": "stream",
     "name": "stdout",
     "text": [
      "(14606, 26)\n<class 'pandas.core.frame.DataFrame'>\nRangeIndex: 14606 entries, 0 to 14605\nData columns (total 26 columns):\n #   Column                          Non-Null Count  Dtype  \n---  ------                          --------------  -----  \n 0   id                              14606 non-null  object \n 1   channel_sales                   14606 non-null  object \n 2   cons_12m                        14606 non-null  int64  \n 3   cons_gas_12m                    14606 non-null  int64  \n 4   cons_last_month                 14606 non-null  int64  \n 5   date_activ                      14606 non-null  object \n 6   date_end                        14606 non-null  object \n 7   date_modif_prod                 14606 non-null  object \n 8   date_renewal                    14606 non-null  object \n 9   forecast_cons_12m               14606 non-null  float64\n 10  forecast_cons_year              14606 non-null  int64  \n 11  forecast_discount_energy        14606 non-null  float64\n 12  forecast_meter_rent_12m         14606 non-null  float64\n 13  forecast_price_energy_off_peak  14606 non-null  float64\n 14  forecast_price_energy_peak      14606 non-null  float64\n 15  forecast_price_pow_off_peak     14606 non-null  float64\n 16  has_gas                         14606 non-null  object \n 17  imp_cons                        14606 non-null  float64\n 18  margin_gross_pow_ele            14606 non-null  float64\n 19  margin_net_pow_ele              14606 non-null  float64\n 20  nb_prod_act                     14606 non-null  int64  \n 21  net_margin                      14606 non-null  float64\n 22  num_years_antig                 14606 non-null  int64  \n 23  origin_up                       14606 non-null  object \n 24  pow_max                         14606 non-null  float64\n 25  churn                           14606 non-null  int64  \ndtypes: float64(11), int64(7), object(8)\nmemory usage: 2.9+ MB\nNone\n           cons_12m  cons_gas_12m  cons_last_month  forecast_cons_12m  \\\ncount  1.460600e+04  1.460600e+04     14606.000000       14606.000000   \nmean   1.592203e+05  2.809238e+04     16090.269752        1868.614880   \nstd    5.734653e+05  1.629731e+05     64364.196422        2387.571531   \nmin    0.000000e+00  0.000000e+00         0.000000           0.000000   \n25%    5.674750e+03  0.000000e+00         0.000000         494.995000   \n50%    1.411550e+04  0.000000e+00       792.500000        1112.875000   \n75%    4.076375e+04  0.000000e+00      3383.000000        2401.790000   \nmax    6.207104e+06  4.154590e+06    771203.000000       82902.830000   \n\n       forecast_cons_year  forecast_discount_energy  forecast_meter_rent_12m  \\\ncount        14606.000000              14606.000000             14606.000000   \nmean          1399.762906                  0.966726                63.086871   \nstd           3247.786255                  5.108289                66.165783   \nmin              0.000000                  0.000000                 0.000000   \n25%              0.000000                  0.000000                16.180000   \n50%            314.000000                  0.000000                18.795000   \n75%           1745.750000                  0.000000               131.030000   \nmax         175375.000000                 30.000000               599.310000   \n\n       forecast_price_energy_off_peak  forecast_price_energy_peak  \\\ncount                    14606.000000                14606.000000   \nmean                         0.137283                    0.050491   \nstd                          0.024623                    0.049037   \nmin                          0.000000                    0.000000   \n25%                          0.116340                    0.000000   \n50%                          0.143166                    0.084138   \n75%                          0.146348                    0.098837   \nmax                          0.273963                    0.195975   \n\n       forecast_price_pow_off_peak      imp_cons  margin_gross_pow_ele  \\\ncount                 14606.000000  14606.000000          14606.000000   \nmean                     43.130056    152.786896             24.565121   \nstd                       4.485988    341.369366             20.231172   \nmin                       0.000000      0.000000              0.000000   \n25%                      40.606701      0.000000             14.280000   \n50%                      44.311378     37.395000             21.640000   \n75%                      44.311378    193.980000             29.880000   \nmax                      59.266378  15042.790000            374.640000   \n\n       margin_net_pow_ele   nb_prod_act    net_margin  num_years_antig  \\\ncount        14606.000000  14606.000000  14606.000000     14606.000000   \nmean            24.562517      1.292346    189.264522         4.997809   \nstd             20.230280      0.709774    311.798130         1.611749   \nmin              0.000000      1.000000      0.000000         1.000000   \n25%             14.280000      1.000000     50.712500         4.000000   \n50%             21.640000      1.000000    112.530000         5.000000   \n75%             29.880000      1.000000    243.097500         6.000000   \nmax            374.640000     32.000000  24570.650000        13.000000   \n\n            pow_max         churn  \ncount  14606.000000  14606.000000  \nmean      18.135136      0.097152  \nstd       13.534743      0.296175  \nmin        3.300000      0.000000  \n25%       12.500000      0.000000  \n50%       13.856000      0.000000  \n75%       19.172500      0.000000  \nmax      320.000000      1.000000  \n"
     ]
    }
   ],
   "source": [
    "print(client_df.shape)        \n",
    "print(client_df.info())      \n",
    "print(client_df.describe())   "
   ]
  },
  {
   "cell_type": "code",
   "execution_count": 9,
   "metadata": {},
   "outputs": [
    {
     "output_type": "stream",
     "name": "stdout",
     "text": [
      "(193002, 8)\n<class 'pandas.core.frame.DataFrame'>\nRangeIndex: 193002 entries, 0 to 193001\nData columns (total 8 columns):\n #   Column              Non-Null Count   Dtype  \n---  ------              --------------   -----  \n 0   id                  193002 non-null  object \n 1   price_date          193002 non-null  object \n 2   price_off_peak_var  193002 non-null  float64\n 3   price_peak_var      193002 non-null  float64\n 4   price_mid_peak_var  193002 non-null  float64\n 5   price_off_peak_fix  193002 non-null  float64\n 6   price_peak_fix      193002 non-null  float64\n 7   price_mid_peak_fix  193002 non-null  float64\ndtypes: float64(6), object(2)\nmemory usage: 11.8+ MB\nNone\n       price_off_peak_var  price_peak_var  price_mid_peak_var  \\\ncount       193002.000000   193002.000000       193002.000000   \nmean             0.141027        0.054630            0.030496   \nstd              0.025032        0.049924            0.036298   \nmin              0.000000        0.000000            0.000000   \n25%              0.125976        0.000000            0.000000   \n50%              0.146033        0.085483            0.000000   \n75%              0.151635        0.101673            0.072558   \nmax              0.280700        0.229788            0.114102   \n\n       price_off_peak_fix  price_peak_fix  price_mid_peak_fix  \ncount       193002.000000   193002.000000       193002.000000  \nmean            43.334477       10.622875            6.409984  \nstd              5.410297       12.841895            7.773592  \nmin              0.000000        0.000000            0.000000  \n25%             40.728885        0.000000            0.000000  \n50%             44.266930        0.000000            0.000000  \n75%             44.444710       24.339581           16.226389  \nmax             59.444710       36.490692           17.458221  \n"
     ]
    }
   ],
   "source": [
    "print(price_df.shape)        \n",
    "print(price_df.info())      \n",
    "print(price_df.describe()) "
   ]
  },
  {
   "cell_type": "code",
   "execution_count": null,
   "metadata": {},
   "outputs": [],
   "source": []
  }
 ]
}